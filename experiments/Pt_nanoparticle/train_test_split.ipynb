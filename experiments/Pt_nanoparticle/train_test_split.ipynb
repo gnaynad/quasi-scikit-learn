{
 "cells": [
  {
   "cell_type": "code",
   "execution_count": 1,
   "metadata": {},
   "outputs": [],
   "source": [
    "import numpy as np\n",
    "import pandas as pd\n",
    "import xgboost\n",
    "from sklearn.model_selection import RandomizedSearchCV\n",
    "from sklearn.model_selection import train_test_split\n",
    "from scipy.stats import uniform\n",
    "from scipy.stats import randint\n",
    "from sklearn.metrics import mean_squared_error\n",
    "from sklearn import metrics\n",
    "from sklearn import preprocessing\n",
    "import matplotlib.pyplot as plt\n",
    "import seaborn as sns\n",
    "import warnings"
   ]
  },
  {
   "cell_type": "code",
   "execution_count": 2,
   "metadata": {},
   "outputs": [
    {
     "data": {
      "text/html": [
       "<div>\n",
       "<style scoped>\n",
       "    .dataframe tbody tr th:only-of-type {\n",
       "        vertical-align: middle;\n",
       "    }\n",
       "\n",
       "    .dataframe tbody tr th {\n",
       "        vertical-align: top;\n",
       "    }\n",
       "\n",
       "    .dataframe thead th {\n",
       "        text-align: right;\n",
       "    }\n",
       "</style>\n",
       "<table border=\"1\" class=\"dataframe\">\n",
       "  <thead>\n",
       "    <tr style=\"text-align: right;\">\n",
       "      <th></th>\n",
       "      <th>N_total</th>\n",
       "      <th>N_bulk</th>\n",
       "      <th>N_surface</th>\n",
       "      <th>R_min</th>\n",
       "      <th>R_max</th>\n",
       "      <th>R_diff</th>\n",
       "      <th>R_avg</th>\n",
       "      <th>R_std</th>\n",
       "      <th>R_skew</th>\n",
       "      <th>R_kurt</th>\n",
       "      <th>...</th>\n",
       "      <th>q6q6_T8</th>\n",
       "      <th>q6q6_T9</th>\n",
       "      <th>q6q6_T10</th>\n",
       "      <th>q6q6_T11</th>\n",
       "      <th>q6q6_T12</th>\n",
       "      <th>Surf_defects_mol</th>\n",
       "      <th>Surf_micros_mol</th>\n",
       "      <th>Surf_facets_mol</th>\n",
       "      <th>Total_E</th>\n",
       "      <th>Formation_E</th>\n",
       "    </tr>\n",
       "    <tr>\n",
       "      <th>ID</th>\n",
       "      <th></th>\n",
       "      <th></th>\n",
       "      <th></th>\n",
       "      <th></th>\n",
       "      <th></th>\n",
       "      <th></th>\n",
       "      <th></th>\n",
       "      <th></th>\n",
       "      <th></th>\n",
       "      <th></th>\n",
       "      <th></th>\n",
       "      <th></th>\n",
       "      <th></th>\n",
       "      <th></th>\n",
       "      <th></th>\n",
       "      <th></th>\n",
       "      <th></th>\n",
       "      <th></th>\n",
       "      <th></th>\n",
       "      <th></th>\n",
       "      <th></th>\n",
       "    </tr>\n",
       "  </thead>\n",
       "  <tbody>\n",
       "    <tr>\n",
       "      <th>1</th>\n",
       "      <td>1732</td>\n",
       "      <td>1129</td>\n",
       "      <td>603</td>\n",
       "      <td>15.1180</td>\n",
       "      <td>18.9872</td>\n",
       "      <td>3.8692</td>\n",
       "      <td>17.2471</td>\n",
       "      <td>0.6262</td>\n",
       "      <td>-0.1372</td>\n",
       "      <td>0.1226</td>\n",
       "      <td>...</td>\n",
       "      <td>64</td>\n",
       "      <td>88</td>\n",
       "      <td>52</td>\n",
       "      <td>43</td>\n",
       "      <td>40</td>\n",
       "      <td>0.0000</td>\n",
       "      <td>121.5956</td>\n",
       "      <td>267.1222</td>\n",
       "      <td>-9237.3055</td>\n",
       "      <td>756.3345</td>\n",
       "    </tr>\n",
       "    <tr>\n",
       "      <th>2</th>\n",
       "      <td>1755</td>\n",
       "      <td>1150</td>\n",
       "      <td>605</td>\n",
       "      <td>15.3043</td>\n",
       "      <td>20.0506</td>\n",
       "      <td>4.7463</td>\n",
       "      <td>17.3469</td>\n",
       "      <td>0.6597</td>\n",
       "      <td>0.2938</td>\n",
       "      <td>0.3970</td>\n",
       "      <td>...</td>\n",
       "      <td>69</td>\n",
       "      <td>74</td>\n",
       "      <td>44</td>\n",
       "      <td>30</td>\n",
       "      <td>50</td>\n",
       "      <td>0.6383</td>\n",
       "      <td>117.4488</td>\n",
       "      <td>266.1747</td>\n",
       "      <td>-9335.3608</td>\n",
       "      <td>790.9892</td>\n",
       "    </tr>\n",
       "    <tr>\n",
       "      <th>3</th>\n",
       "      <td>4672</td>\n",
       "      <td>3456</td>\n",
       "      <td>1216</td>\n",
       "      <td>21.5357</td>\n",
       "      <td>27.5179</td>\n",
       "      <td>5.9822</td>\n",
       "      <td>24.5075</td>\n",
       "      <td>0.9193</td>\n",
       "      <td>-0.0729</td>\n",
       "      <td>0.1330</td>\n",
       "      <td>...</td>\n",
       "      <td>261</td>\n",
       "      <td>258</td>\n",
       "      <td>243</td>\n",
       "      <td>182</td>\n",
       "      <td>696</td>\n",
       "      <td>0.4796</td>\n",
       "      <td>84.8806</td>\n",
       "      <td>205.7275</td>\n",
       "      <td>-25287.5650</td>\n",
       "      <td>1669.8750</td>\n",
       "    </tr>\n",
       "    <tr>\n",
       "      <th>4</th>\n",
       "      <td>6823</td>\n",
       "      <td>5122</td>\n",
       "      <td>1701</td>\n",
       "      <td>23.3351</td>\n",
       "      <td>35.9820</td>\n",
       "      <td>12.6469</td>\n",
       "      <td>28.0471</td>\n",
       "      <td>1.9581</td>\n",
       "      <td>0.4768</td>\n",
       "      <td>0.2181</td>\n",
       "      <td>...</td>\n",
       "      <td>417</td>\n",
       "      <td>488</td>\n",
       "      <td>419</td>\n",
       "      <td>400</td>\n",
       "      <td>1730</td>\n",
       "      <td>0.6567</td>\n",
       "      <td>87.3462</td>\n",
       "      <td>189.9616</td>\n",
       "      <td>-37049.1710</td>\n",
       "      <td>2319.5390</td>\n",
       "    </tr>\n",
       "    <tr>\n",
       "      <th>5</th>\n",
       "      <td>10733</td>\n",
       "      <td>8349</td>\n",
       "      <td>2384</td>\n",
       "      <td>25.7149</td>\n",
       "      <td>40.8339</td>\n",
       "      <td>15.1190</td>\n",
       "      <td>32.7271</td>\n",
       "      <td>2.1220</td>\n",
       "      <td>-0.3342</td>\n",
       "      <td>0.2877</td>\n",
       "      <td>...</td>\n",
       "      <td>683</td>\n",
       "      <td>782</td>\n",
       "      <td>685</td>\n",
       "      <td>713</td>\n",
       "      <td>4006</td>\n",
       "      <td>0.6262</td>\n",
       "      <td>83.9156</td>\n",
       "      <td>163.6563</td>\n",
       "      <td>-58602.2500</td>\n",
       "      <td>3327.1600</td>\n",
       "    </tr>\n",
       "  </tbody>\n",
       "</table>\n",
       "<p>5 rows × 56 columns</p>\n",
       "</div>"
      ],
      "text/plain": [
       "    N_total  N_bulk  N_surface    R_min    R_max   R_diff    R_avg   R_std  \\\n",
       "ID                                                                           \n",
       "1      1732    1129        603  15.1180  18.9872   3.8692  17.2471  0.6262   \n",
       "2      1755    1150        605  15.3043  20.0506   4.7463  17.3469  0.6597   \n",
       "3      4672    3456       1216  21.5357  27.5179   5.9822  24.5075  0.9193   \n",
       "4      6823    5122       1701  23.3351  35.9820  12.6469  28.0471  1.9581   \n",
       "5     10733    8349       2384  25.7149  40.8339  15.1190  32.7271  2.1220   \n",
       "\n",
       "    R_skew  R_kurt  ...  q6q6_T8  q6q6_T9  q6q6_T10  q6q6_T11  q6q6_T12  \\\n",
       "ID                  ...                                                   \n",
       "1  -0.1372  0.1226  ...       64       88        52        43        40   \n",
       "2   0.2938  0.3970  ...       69       74        44        30        50   \n",
       "3  -0.0729  0.1330  ...      261      258       243       182       696   \n",
       "4   0.4768  0.2181  ...      417      488       419       400      1730   \n",
       "5  -0.3342  0.2877  ...      683      782       685       713      4006   \n",
       "\n",
       "    Surf_defects_mol  Surf_micros_mol  Surf_facets_mol     Total_E  \\\n",
       "ID                                                                   \n",
       "1             0.0000         121.5956         267.1222  -9237.3055   \n",
       "2             0.6383         117.4488         266.1747  -9335.3608   \n",
       "3             0.4796          84.8806         205.7275 -25287.5650   \n",
       "4             0.6567          87.3462         189.9616 -37049.1710   \n",
       "5             0.6262          83.9156         163.6563 -58602.2500   \n",
       "\n",
       "    Formation_E  \n",
       "ID               \n",
       "1      756.3345  \n",
       "2      790.9892  \n",
       "3     1669.8750  \n",
       "4     2319.5390  \n",
       "5     3327.1600  \n",
       "\n",
       "[5 rows x 56 columns]"
      ]
     },
     "execution_count": 2,
     "metadata": {},
     "output_type": "execute_result"
    }
   ],
   "source": [
    "data = pd.read_csv('Pt_nanoparticle_subset.csv', index_col=0)\n",
    "data.head()"
   ]
  },
  {
   "cell_type": "code",
   "execution_count": 3,
   "metadata": {},
   "outputs": [
    {
     "data": {
      "text/html": [
       "<div>\n",
       "<style scoped>\n",
       "    .dataframe tbody tr th:only-of-type {\n",
       "        vertical-align: middle;\n",
       "    }\n",
       "\n",
       "    .dataframe tbody tr th {\n",
       "        vertical-align: top;\n",
       "    }\n",
       "\n",
       "    .dataframe thead th {\n",
       "        text-align: right;\n",
       "    }\n",
       "</style>\n",
       "<table border=\"1\" class=\"dataframe\">\n",
       "  <thead>\n",
       "    <tr style=\"text-align: right;\">\n",
       "      <th></th>\n",
       "      <th>R_min</th>\n",
       "      <th>R_max</th>\n",
       "      <th>R_diff</th>\n",
       "      <th>R_avg</th>\n",
       "      <th>R_std</th>\n",
       "      <th>R_skew</th>\n",
       "      <th>R_kurt</th>\n",
       "    </tr>\n",
       "  </thead>\n",
       "  <tbody>\n",
       "    <tr>\n",
       "      <th>0</th>\n",
       "      <td>0.384908</td>\n",
       "      <td>0.183569</td>\n",
       "      <td>0.046382</td>\n",
       "      <td>0.323010</td>\n",
       "      <td>0.016219</td>\n",
       "      <td>0.529445</td>\n",
       "      <td>0.089511</td>\n",
       "    </tr>\n",
       "    <tr>\n",
       "      <th>1</th>\n",
       "      <td>0.390694</td>\n",
       "      <td>0.203226</td>\n",
       "      <td>0.069190</td>\n",
       "      <td>0.326296</td>\n",
       "      <td>0.020016</td>\n",
       "      <td>0.631094</td>\n",
       "      <td>0.105145</td>\n",
       "    </tr>\n",
       "    <tr>\n",
       "      <th>2</th>\n",
       "      <td>0.584235</td>\n",
       "      <td>0.341265</td>\n",
       "      <td>0.101329</td>\n",
       "      <td>0.562090</td>\n",
       "      <td>0.049439</td>\n",
       "      <td>0.544610</td>\n",
       "      <td>0.090103</td>\n",
       "    </tr>\n",
       "    <tr>\n",
       "      <th>3</th>\n",
       "      <td>0.640123</td>\n",
       "      <td>0.497730</td>\n",
       "      <td>0.274641</td>\n",
       "      <td>0.678646</td>\n",
       "      <td>0.167177</td>\n",
       "      <td>0.674253</td>\n",
       "      <td>0.094952</td>\n",
       "    </tr>\n",
       "    <tr>\n",
       "      <th>4</th>\n",
       "      <td>0.714037</td>\n",
       "      <td>0.587421</td>\n",
       "      <td>0.338927</td>\n",
       "      <td>0.832755</td>\n",
       "      <td>0.185753</td>\n",
       "      <td>0.482984</td>\n",
       "      <td>0.098917</td>\n",
       "    </tr>\n",
       "  </tbody>\n",
       "</table>\n",
       "</div>"
      ],
      "text/plain": [
       "      R_min     R_max    R_diff     R_avg     R_std    R_skew    R_kurt\n",
       "0  0.384908  0.183569  0.046382  0.323010  0.016219  0.529445  0.089511\n",
       "1  0.390694  0.203226  0.069190  0.326296  0.020016  0.631094  0.105145\n",
       "2  0.584235  0.341265  0.101329  0.562090  0.049439  0.544610  0.090103\n",
       "3  0.640123  0.497730  0.274641  0.678646  0.167177  0.674253  0.094952\n",
       "4  0.714037  0.587421  0.338927  0.832755  0.185753  0.482984  0.098917"
      ]
     },
     "execution_count": 3,
     "metadata": {},
     "output_type": "execute_result"
    }
   ],
   "source": [
    "X = data.iloc[:,3:10]\n",
    "y = data.iloc[:,-1]\n",
    "min_max_scaler = preprocessing.MinMaxScaler()\n",
    "X = pd.DataFrame(min_max_scaler.fit_transform(X.values),columns=X.columns)\n",
    "X.head()"
   ]
  },
  {
   "cell_type": "code",
   "execution_count": 4,
   "metadata": {},
   "outputs": [],
   "source": [
    "from sklearn.model_selection import train_test_split\n",
    "X_train, X_test, y_train, y_test = train_test_split(X,y, train_size=0.7)"
   ]
  },
  {
   "cell_type": "code",
   "execution_count": 5,
   "metadata": {},
   "outputs": [
    {
     "data": {
      "text/plain": [
       "994098.5740448221"
      ]
     },
     "execution_count": 5,
     "metadata": {},
     "output_type": "execute_result"
    }
   ],
   "source": [
    "# Import library for Linear Regression\n",
    "from sklearn.linear_model import LinearRegression\n",
    "\n",
    "# Create a Linear regressor\n",
    "lm = LinearRegression()\n",
    "\n",
    "# Train the model using the training sets \n",
    "lm.fit(X_train, y_train)\n",
    "lm.intercept_"
   ]
  },
  {
   "cell_type": "code",
   "execution_count": 6,
   "metadata": {},
   "outputs": [
    {
     "data": {
      "text/html": [
       "<div>\n",
       "<style scoped>\n",
       "    .dataframe tbody tr th:only-of-type {\n",
       "        vertical-align: middle;\n",
       "    }\n",
       "\n",
       "    .dataframe tbody tr th {\n",
       "        vertical-align: top;\n",
       "    }\n",
       "\n",
       "    .dataframe thead th {\n",
       "        text-align: right;\n",
       "    }\n",
       "</style>\n",
       "<table border=\"1\" class=\"dataframe\">\n",
       "  <thead>\n",
       "    <tr style=\"text-align: right;\">\n",
       "      <th></th>\n",
       "      <th>Attribute</th>\n",
       "      <th>Coefficients</th>\n",
       "    </tr>\n",
       "  </thead>\n",
       "  <tbody>\n",
       "    <tr>\n",
       "      <th>0</th>\n",
       "      <td>R_min</td>\n",
       "      <td>-7.54068e+06</td>\n",
       "    </tr>\n",
       "    <tr>\n",
       "      <th>1</th>\n",
       "      <td>R_max</td>\n",
       "      <td>1.2668e+07</td>\n",
       "    </tr>\n",
       "    <tr>\n",
       "      <th>2</th>\n",
       "      <td>R_diff</td>\n",
       "      <td>-9.00537e+06</td>\n",
       "    </tr>\n",
       "    <tr>\n",
       "      <th>3</th>\n",
       "      <td>R_avg</td>\n",
       "      <td>5439.21</td>\n",
       "    </tr>\n",
       "    <tr>\n",
       "      <th>4</th>\n",
       "      <td>R_std</td>\n",
       "      <td>-980.244</td>\n",
       "    </tr>\n",
       "    <tr>\n",
       "      <th>5</th>\n",
       "      <td>R_skew</td>\n",
       "      <td>-134.486</td>\n",
       "    </tr>\n",
       "    <tr>\n",
       "      <th>6</th>\n",
       "      <td>R_kurt</td>\n",
       "      <td>161.259</td>\n",
       "    </tr>\n",
       "  </tbody>\n",
       "</table>\n",
       "</div>"
      ],
      "text/plain": [
       "  Attribute Coefficients\n",
       "0     R_min -7.54068e+06\n",
       "1     R_max   1.2668e+07\n",
       "2    R_diff -9.00537e+06\n",
       "3     R_avg      5439.21\n",
       "4     R_std     -980.244\n",
       "5    R_skew     -134.486\n",
       "6    R_kurt      161.259"
      ]
     },
     "execution_count": 6,
     "metadata": {},
     "output_type": "execute_result"
    }
   ],
   "source": [
    "#Converting the coefficient values to a dataframe\n",
    "coeffcients = pd.DataFrame([X_train.columns,lm.coef_]).T\n",
    "coeffcients = coeffcients.rename(columns={0: 'Attribute', 1: 'Coefficients'})\n",
    "coeffcients"
   ]
  },
  {
   "cell_type": "code",
   "execution_count": 7,
   "metadata": {},
   "outputs": [
    {
     "name": "stdout",
     "output_type": "stream",
     "text": [
      "R^2: 0.963981948915957\n",
      "Adjusted R^2: 0.9637021194402763\n",
      "MAE: 182.79745270320336\n",
      "MSE: 54001.18261484488\n",
      "RMSE: 232.38154534051296\n"
     ]
    }
   ],
   "source": [
    "# Model prediction on train data\n",
    "y_pred = lm.predict(X_train)\n",
    "# Model Evaluation\n",
    "print('R^2:',metrics.r2_score(y_train, y_pred))\n",
    "print('Adjusted R^2:',1 - (1-metrics.r2_score(y_train, y_pred))*(len(y_train)-1)/(len(y_train)-X_train.shape[1]-1))\n",
    "print('MAE:',metrics.mean_absolute_error(y_train, y_pred))\n",
    "print('MSE:',metrics.mean_squared_error(y_train, y_pred))\n",
    "print('RMSE:',np.sqrt(metrics.mean_squared_error(y_train, y_pred)))"
   ]
  },
  {
   "cell_type": "code",
   "execution_count": 8,
   "metadata": {},
   "outputs": [
    {
     "data": {
      "image/png": "[encoded data removed]",
      "text/plain": [
       "<Figure size 432x288 with 1 Axes>"
      ]
     },
     "metadata": {
      "needs_background": "light"
     },
     "output_type": "display_data"
    }
   ],
   "source": [
    "# Visualizing the differences between actual prices and predicted values\n",
    "plt.scatter(y_train, y_pred)\n",
    "plt.xlabel(\"Formation_E\")\n",
    "plt.ylabel(\"Predicted Formation_E\")\n",
    "plt.title(\"Actual vs Predicted\")\n",
    "plt.show()"
   ]
  },
  {
   "cell_type": "code",
   "execution_count": 9,
   "metadata": {},
   "outputs": [
    {
     "data": {
      "image/png": "[encoded data removed]",
      "text/plain": [
       "<Figure size 432x288 with 1 Axes>"
      ]
     },
     "metadata": {
      "needs_background": "light"
     },
     "output_type": "display_data"
    }
   ],
   "source": [
    "# Checking residuals\n",
    "plt.scatter(y_pred,y_train-y_pred)\n",
    "plt.title(\"Predicted vs residuals\")\n",
    "plt.xlabel(\"Predicted\")\n",
    "plt.ylabel(\"Residuals\")\n",
    "plt.show()"
   ]
  },
  {
   "cell_type": "code",
   "execution_count": 10,
   "metadata": {},
   "outputs": [
    {
     "name": "stderr",
     "output_type": "stream",
     "text": [
      "C:\\Users\\danyang\\anaconda3\\lib\\site-packages\\seaborn\\distributions.py:2551: FutureWarning: `distplot` is a deprecated function and will be removed in a future version. Please adapt your code to use either `displot` (a figure-level function with similar flexibility) or `histplot` (an axes-level function for histograms).\n",
      "  warnings.warn(msg, FutureWarning)\n"
     ]
    },
    {
     "data": {
      "image/png": "[encoded data removed]",
      "text/plain": [
       "<Figure size 432x288 with 1 Axes>"
      ]
     },
     "metadata": {
      "needs_background": "light"
     },
     "output_type": "display_data"
    }
   ],
   "source": [
    "# Checking Normality of errors\n",
    "sns.distplot(y_train-y_pred)\n",
    "plt.title(\"Histogram of Residuals\")\n",
    "plt.xlabel(\"Residuals\")\n",
    "plt.ylabel(\"Frequency\")\n",
    "plt.show()"
   ]
  },
  {
   "cell_type": "code",
   "execution_count": 11,
   "metadata": {},
   "outputs": [
    {
     "name": "stdout",
     "output_type": "stream",
     "text": [
      "R^2: 0.9625802351998042\n",
      "Adjusted R^2: 0.961896323049409\n",
      "MAE: 195.07006194523854\n",
      "MSE: 60173.910135135106\n",
      "RMSE: 245.30370999056476\n"
     ]
    }
   ],
   "source": [
    "# Predicting Test data with the model\n",
    "y_test_pred = lm.predict(X_test)\n",
    "# Model Evaluation\n",
    "acc_linreg = metrics.r2_score(y_test, y_test_pred)\n",
    "print('R^2:', acc_linreg)\n",
    "print('Adjusted R^2:',1 - (1-metrics.r2_score(y_test, y_test_pred))*(len(y_test)-1)/(len(y_test)-X_test.shape[1]-1))\n",
    "print('MAE:',metrics.mean_absolute_error(y_test, y_test_pred))\n",
    "print('MSE:',metrics.mean_squared_error(y_test, y_test_pred))\n",
    "print('RMSE:',np.sqrt(metrics.mean_squared_error(y_test, y_test_pred)))"
   ]
  },
  {
   "cell_type": "code",
   "execution_count": 12,
   "metadata": {},
   "outputs": [
    {
     "data": {
      "text/plain": [
       "(1300, 7)"
      ]
     },
     "execution_count": 12,
     "metadata": {},
     "output_type": "execute_result"
    }
   ],
   "source": [
    "X.shape"
   ]
  },
  {
   "cell_type": "code",
   "execution_count": 13,
   "metadata": {},
   "outputs": [
    {
     "data": {
      "text/plain": [
       "1069638.3204912986"
      ]
     },
     "execution_count": 13,
     "metadata": {},
     "output_type": "execute_result"
    }
   ],
   "source": [
    "X_train1, X_test1, y_train1, y_test1 = train_test_split(X,y, train_size=0.2)\n",
    "lm1 = LinearRegression()\n",
    "lm1.fit(X_train1, y_train1)\n",
    "lm1.intercept_"
   ]
  },
  {
   "cell_type": "code",
   "execution_count": 14,
   "metadata": {},
   "outputs": [
    {
     "name": "stdout",
     "output_type": "stream",
     "text": [
      "R^2: 0.9628303878287471\n",
      "Adjusted R^2: 0.96262900448107\n",
      "MAE: 186.42705783007236\n",
      "MSE: 57121.81265491064\n",
      "RMSE: 239.00170010882903\n"
     ]
    }
   ],
   "source": [
    "y_pred1 = lm1.predict(X)\n",
    "acc_linreg1 = metrics.r2_score(y, y_pred1)\n",
    "print('R^2:', acc_linreg1)\n",
    "print('Adjusted R^2:',1 - (1-metrics.r2_score(y, y_pred1))*(len(y)-1)/(len(y)-X.shape[1]-1))\n",
    "print('MAE:',metrics.mean_absolute_error(y, y_pred1))\n",
    "print('MSE:',metrics.mean_squared_error(y, y_pred1))\n",
    "print('RMSE:',np.sqrt(metrics.mean_squared_error(y, y_pred1)))"
   ]
  },
  {
   "cell_type": "code",
   "execution_count": null,
   "metadata": {},
   "outputs": [],
   "source": []
  }
 ],
 "metadata": {
  "kernelspec": {
   "display_name": "Python 3",
   "language": "python",
   "name": "python3"
  },
  "language_info": {
   "codemirror_mode": {
    "name": "ipython",
    "version": 3
   },
   "file_extension": ".py",
   "mimetype": "text/x-python",
   "name": "python",
   "nbconvert_exporter": "python",
   "pygments_lexer": "ipython3",
   "version": "3.8.5"
  }
 },
 "nbformat": 4,
 "nbformat_minor": 4
}
